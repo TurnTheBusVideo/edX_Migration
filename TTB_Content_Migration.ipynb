{
  "nbformat": 4,
  "nbformat_minor": 0,
  "metadata": {
    "colab": {
      "name": "TTB Content Migration.ipynb",
      "provenance": []
    },
    "kernelspec": {
      "name": "python3",
      "display_name": "Python 3"
    }
  },
  "cells": [
    {
      "cell_type": "markdown",
      "metadata": {
        "id": "HccDaWDkM6QS",
        "colab_type": "text"
      },
      "source": [
        "## Youtube Video Links\n",
        "\n",
        "Extract all video information uploaded by a youtube handle\n",
        "\n",
        "- Link\n",
        "- Name\n",
        "- Description\n",
        "\n"
      ]
    },
    {
      "cell_type": "markdown",
      "metadata": {
        "id": "5ibSZ7Cksr_Z",
        "colab_type": "text"
      },
      "source": [
        "## Update before Run"
      ]
    },
    {
      "cell_type": "code",
      "metadata": {
        "id": "iSXTCq8aspc-",
        "colab_type": "code",
        "colab": {}
      },
      "source": [
        "channel_Id = \"UCHiGOnxQq43X2Nes2gF0cRQ\"\n",
        "# Reach out to Ann or follow link to generate a key https://developers.google.com/explorer-help/guides/code_samples#python\n",
        "api_key = '' \n",
        "#maxResults=50 - Limit set by the API \n"
      ],
      "execution_count": 0,
      "outputs": []
    },
    {
      "cell_type": "code",
      "metadata": {
        "id": "67xd68Y2Snvu",
        "colab_type": "code",
        "colab": {}
      },
      "source": [
        "# -*- coding: utf-8 -*-\n",
        "\n",
        "# Sample Python code for youtube.search.list\n",
        "# See instructions for running these code samples locally:\n",
        "# https://developers.google.com/explorer-help/guides/code_samples#python\n",
        "\n",
        "import os\n",
        "import google_auth_oauthlib.flow\n",
        "import googleapiclient.discovery\n",
        "import googleapiclient.errors\n",
        "import json\n",
        "\n",
        "scopes = [\"https://www.googleapis.com/auth/youtube.force-ssl\"]\n",
        "\n",
        "\n",
        "    # Disable OAuthlib's HTTPS verification when running locally.\n",
        "    # *DO NOT* leave this option enabled in production.\n",
        "os.environ[\"OAUTHLIB_INSECURE_TRANSPORT\"] = \"1\"\n",
        "\n",
        "api_service_name = \"youtube\"\n",
        "api_version = \"v3\"\n",
        "\n",
        "\n",
        "youtube = googleapiclient.discovery.build(api_service_name, api_version, developerKey=api_key)\n",
        "\n",
        "request = youtube.search().list(\n",
        "    part=\"snippet\",\n",
        "    maxResults=50,\n",
        "    channelId=channel_Id\n",
        ")\n",
        "response = request.execute()\n",
        "videos = []\n",
        "for item in response['items']:\n",
        "  #Kind\n",
        "  if item['id']['kind'] == 'youtube#video':\n",
        "    Url = 'https://www.youtube.com/watch?v=' + item['id']['videoId']\n",
        "    Date = item['snippet']['publishedAt']\n",
        "    title = item['snippet']['title']\n",
        "    description = item['snippet']['description']\n",
        "    videos.append([Url,Date,title,description])\n",
        "\n",
        "for row in videos:\n",
        "  print(row)  "
      ],
      "execution_count": 0,
      "outputs": []
    },
    {
      "cell_type": "code",
      "metadata": {
        "id": "-HJa5EowZfTE",
        "colab_type": "code",
        "colab": {}
      },
      "source": [
        ""
      ],
      "execution_count": 0,
      "outputs": []
    }
  ]
}